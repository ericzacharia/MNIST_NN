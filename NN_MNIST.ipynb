{
 "cells": [
  {
   "cell_type": "code",
   "execution_count": 2,
   "metadata": {
    "pycharm": {}
   },
   "outputs": [
    {
     "data": {
      "text/html": [
       "<style>.container { width:80% !important; }</style>"
      ],
      "text/plain": [
       "<IPython.core.display.HTML object>"
      ]
     },
     "metadata": {},
     "output_type": "display_data"
    },
    {
     "data": {
      "text/plain": [
       "<module 'nn_model' from 'c:\\\\Users\\\\Eric\\\\EricZacharia\\\\02-CareerEducation\\\\02-School\\\\01-UChicago\\\\04-Spring2021\\\\MPCS53111-MachineLearning\\\\Homework\\\\hw4\\\\GitHub\\\\nn_model.py'>"
      ]
     },
     "execution_count": 2,
     "metadata": {},
     "output_type": "execute_result"
    }
   ],
   "source": [
    "from IPython.core.display import display, HTML\n",
    "display(HTML(\"<style>.container { width:80% !important; }</style>\"))\n",
    "import time\n",
    "import importlib\n",
    "import pandas as pd\n",
    "import numpy as np\n",
    "import pickle\n",
    "import nn_model as nn  \n",
    "importlib.reload(nn)"
   ]
  },
  {
   "cell_type": "markdown",
   "metadata": {
    "pycharm": {}
   },
   "source": [
    "## MNIST dataset\n",
    "https://www.kaggle.com/c/digit-recognizer/overview\n",
    "\n",
    "<img alt=\"Handwritten Digits, Labeled\" src=\"MNIST_NN.png\" width=\"400\">"
   ]
  },
  {
   "cell_type": "code",
   "execution_count": 9,
   "metadata": {
    "pycharm": {}
   },
   "outputs": [],
   "source": [
    "# we will use train.csv for training and testing as it test.csv doesn't contain label\n",
    "data = pd.read_csv(\"./data/train.csv\")\n",
    "train_data = data.iloc[:30000]  # 30000\n",
    "test_data = data.iloc[30000:]  # 12000\n",
    "\n",
    "pixel_columns = [f\"pixel{i}\" for i in range(784)]\n",
    "\n",
    "# normalize by dividing by 255 as the pixel ranges from 0 to 255\n",
    "train_x = train_data[pixel_columns].values.astype(nn.DATA_TYPE)/255\n",
    "train_y = train_data[\"label\"].values.astype(nn.DATA_TYPE)\n",
    "\n",
    "test_x = test_data[pixel_columns].values.astype(nn.DATA_TYPE)/255\n",
    "test_y = test_data[\"label\"].values.astype(nn.DATA_TYPE)"
   ]
  },
  {
   "cell_type": "code",
   "execution_count": null,
   "metadata": {
    "pycharm": {},
    "scrolled": false
   },
   "outputs": [],
   "source": [
    "importlib.reload(nn)  # important line so that the changes you made on p2.py will be reflected without restarting the kernel\n",
    "# Here we use the 2-layer NN with 1 hidden layer, feel free to experiment on your own\n",
    "nodes_array = [784, 128, 10]\n",
    "model = nn.NN(nodes_array, \"sigmoid\")\n",
    "model.init_weights_with_xavier()\n",
    "model.fit(train_x, train_y, 0.01, 10)"
   ]
  },
  {
   "cell_type": "code",
   "execution_count": null,
   "metadata": {
    "pycharm": {}
   },
   "outputs": [],
   "source": [
    "# After 10 epochs of training, you should expect an accuracy over 95% and loss around 0.1\n",
    "accy, loss = model.eval(test_x, test_y)\n",
    "print(\"Test accuracy = %.4f, accy = %.4f\" % (accy, loss))"
   ]
  }
 ],
 "metadata": {
  "anaconda-cloud": {},
  "kernelspec": {
   "display_name": "Python 3",
   "language": "python",
   "name": "python3"
  },
  "language_info": {
   "codemirror_mode": {
    "name": "ipython",
    "version": 3
   },
   "file_extension": ".py",
   "mimetype": "text/x-python",
   "name": "python",
   "nbconvert_exporter": "python",
   "pygments_lexer": "ipython3",
   "version": "3.9.6"
  }
 },
 "nbformat": 4,
 "nbformat_minor": 2
}
